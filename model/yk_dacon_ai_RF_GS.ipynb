{
  "nbformat": 4,
  "nbformat_minor": 0,
  "metadata": {
    "colab": {
      "name": "yk_dacon_ai_RF.ipynb",
      "provenance": [],
      "collapsed_sections": []
    },
    "kernelspec": {
      "name": "python3",
      "display_name": "Python 3"
    },
    "language_info": {
      "name": "python"
    }
  },
  "cells": [
    {
      "cell_type": "code",
      "execution_count": 1,
      "metadata": {
        "id": "nI8FnCP38MLT"
      },
      "outputs": [],
      "source": [
        "import numpy as np\n",
        "import pandas as pd\n",
        "import matplotlib.pyplot as plt\n",
        "import matplotlib.pyplot as plt\n",
        "import warnings\n",
        "warnings.filterwarnings('ignore')\n",
        "\n",
        "from lightgbm import LGBMClassifier, LGBMClassifier\n",
        "from sklearn.model_selection import train_test_split, cross_validate\n",
        "from sklearn.ensemble import RandomForestClassifier\n",
        "from sklearn.datasets import load_iris\n",
        "from sklearn.tree import DecisionTreeClassifier\n",
        "from sklearn.model_selection import GridSearchCV"
      ]
    },
    {
      "cell_type": "markdown",
      "source": [
        "### 결측치 제거 "
      ],
      "metadata": {
        "id": "zJQ2IMJUA9p0"
      }
    },
    {
      "cell_type": "code",
      "source": [
        "# 데이터 가져오기\n",
        "train_data = pd.read_csv(\"train.csv\")\n",
        "train_data_drop = train_data.dropna()\n",
        "\n",
        "print(train_data_drop.info())\n",
        "\n",
        "\n",
        "'''\n",
        "train_data_drop = train_data.dropna()\n",
        "\n",
        "train_drop = train_data_drop.iloc[:, 1:27]\n",
        "#train_drop = train_drop.drop(['country'], axis=1)\n",
        "target_drop = train_data_drop.iloc[:, 69]\n",
        "\n",
        "'''\n",
        "# main_data_drop = pd.concat([idx1to26_drop, idx41to56_drop], axis=1)"
      ],
      "metadata": {
        "colab": {
          "base_uri": "https://localhost:8080/",
          "height": 1000
        },
        "id": "D1vRPGEy8eQ0",
        "outputId": "f103a316-6b71-4f9f-8baf-75846929a8e0"
      },
      "execution_count": 2,
      "outputs": [
        {
          "output_type": "stream",
          "name": "stdout",
          "text": [
            "<class 'pandas.core.frame.DataFrame'>\n",
            "Int64Index: 12639 entries, 0 to 14999\n",
            "Data columns (total 70 columns):\n",
            " #   Column        Non-Null Count  Dtype  \n",
            "---  ------        --------------  -----  \n",
            " 0   index         12639 non-null  int64  \n",
            " 1   Q1            12639 non-null  float64\n",
            " 2   Q2            12639 non-null  float64\n",
            " 3   Q3            12639 non-null  float64\n",
            " 4   Q4            12639 non-null  float64\n",
            " 5   Q5            12639 non-null  float64\n",
            " 6   Q6            12639 non-null  float64\n",
            " 7   Q7            12639 non-null  float64\n",
            " 8   Q8            12639 non-null  float64\n",
            " 9   Q9            12639 non-null  float64\n",
            " 10  Q10           12639 non-null  float64\n",
            " 11  Q11           12639 non-null  float64\n",
            " 12  Q12           12639 non-null  float64\n",
            " 13  Q13           12639 non-null  float64\n",
            " 14  Q14           12639 non-null  float64\n",
            " 15  Q15           12639 non-null  float64\n",
            " 16  Q16           12639 non-null  float64\n",
            " 17  Q17           12639 non-null  float64\n",
            " 18  Q18           12639 non-null  float64\n",
            " 19  Q19           12639 non-null  float64\n",
            " 20  Q20           12639 non-null  float64\n",
            " 21  Q21           12639 non-null  float64\n",
            " 22  Q22           12639 non-null  float64\n",
            " 23  Q23           12639 non-null  float64\n",
            " 24  Q24           12639 non-null  float64\n",
            " 25  Q25           12639 non-null  float64\n",
            " 26  Q26           12639 non-null  float64\n",
            " 27  country       12639 non-null  object \n",
            " 28  introelapse   12639 non-null  int64  \n",
            " 29  testelapse    12639 non-null  int64  \n",
            " 30  surveyelapse  12639 non-null  int64  \n",
            " 31  TIPI1         12639 non-null  float64\n",
            " 32  TIPI2         12639 non-null  float64\n",
            " 33  TIPI3         12639 non-null  float64\n",
            " 34  TIPI4         12639 non-null  float64\n",
            " 35  TIPI5         12639 non-null  float64\n",
            " 36  TIPI6         12639 non-null  float64\n",
            " 37  TIPI7         12639 non-null  float64\n",
            " 38  TIPI8         12639 non-null  float64\n",
            " 39  TIPI9         12639 non-null  float64\n",
            " 40  TIPI10        12639 non-null  float64\n",
            " 41  VCL1          12639 non-null  int64  \n",
            " 42  VCL2          12639 non-null  int64  \n",
            " 43  VCL3          12639 non-null  int64  \n",
            " 44  VCL4          12639 non-null  int64  \n",
            " 45  VCL5          12639 non-null  int64  \n",
            " 46  VCL6          12639 non-null  int64  \n",
            " 47  VCL7          12639 non-null  int64  \n",
            " 48  VCL8          12639 non-null  int64  \n",
            " 49  VCL9          12639 non-null  int64  \n",
            " 50  VCL10         12639 non-null  int64  \n",
            " 51  VCL11         12639 non-null  int64  \n",
            " 52  VCL12         12639 non-null  int64  \n",
            " 53  VCL13         12639 non-null  int64  \n",
            " 54  VCL14         12639 non-null  int64  \n",
            " 55  VCL15         12639 non-null  int64  \n",
            " 56  VCL16         12639 non-null  int64  \n",
            " 57  education     12639 non-null  float64\n",
            " 58  urban         12639 non-null  int64  \n",
            " 59  gender        12639 non-null  float64\n",
            " 60  engnat        12639 non-null  float64\n",
            " 61  age           12639 non-null  int64  \n",
            " 62  hand          12639 non-null  float64\n",
            " 63  religion      12639 non-null  float64\n",
            " 64  orientation   12639 non-null  float64\n",
            " 65  voted         12639 non-null  float64\n",
            " 66  married       12639 non-null  float64\n",
            " 67  familysize    12639 non-null  float64\n",
            " 68  ASD           12639 non-null  float64\n",
            " 69  nerdiness     12639 non-null  int64  \n",
            "dtypes: float64(46), int64(23), object(1)\n",
            "memory usage: 6.8+ MB\n",
            "None\n"
          ]
        },
        {
          "output_type": "execute_result",
          "data": {
            "text/plain": [
              "\"\\ntrain_data_drop = train_data.dropna()\\n\\ntrain_drop = train_data_drop.iloc[:, 1:27]\\n#train_drop = train_drop.drop(['country'], axis=1)\\ntarget_drop = train_data_drop.iloc[:, 69]\\n\\n\""
            ],
            "application/vnd.google.colaboratory.intrinsic+json": {
              "type": "string"
            }
          },
          "metadata": {},
          "execution_count": 2
        }
      ]
    },
    {
      "cell_type": "code",
      "source": [
        "data = pd.concat((train_data_drop.iloc[:,1:27], train_data_drop.iloc[:,41:57]), axis=1)\n",
        "td = train_data_drop['nerdiness'].to_numpy()\n",
        "td_1 = td.reshape(-1,1)\n",
        "\n",
        "print(data.shape)\n",
        "print(td_1.shape)\n",
        "train_input, test_input, train_target, test_target = train_test_split(data, td_1, test_size=0.2, random_state=42)"
      ],
      "metadata": {
        "colab": {
          "base_uri": "https://localhost:8080/"
        },
        "id": "jCa1qnFU8yka",
        "outputId": "1d250295-b41a-417e-fe5e-8780c972f6b4"
      },
      "execution_count": 3,
      "outputs": [
        {
          "output_type": "stream",
          "name": "stdout",
          "text": [
            "(12639, 42)\n",
            "(12639, 1)\n"
          ]
        }
      ]
    },
    {
      "cell_type": "markdown",
      "source": [
        "### 랜덤 포레스트 작업"
      ],
      "metadata": {
        "id": "iONiRmpgQ8Lz"
      }
    },
    {
      "cell_type": "code",
      "source": [
        "rf = RandomForestClassifier(n_jobs=-1)\n",
        "scores = cross_validate(rf, train_input, train_target, return_train_score=True, n_jobs=-1)\n",
        "print(np.mean(scores['train_score']), np.mean(scores['test_score']))"
      ],
      "metadata": {
        "colab": {
          "base_uri": "https://localhost:8080/"
        },
        "id": "zlkmYMO48ero",
        "outputId": "2092fedb-a6cc-41b8-d9ef-c2efe42d8fdb"
      },
      "execution_count": 4,
      "outputs": [
        {
          "output_type": "stream",
          "name": "stdout",
          "text": [
            "1.0 0.7664921161342875\n"
          ]
        }
      ]
    },
    {
      "cell_type": "markdown",
      "source": [
        "### 특성 중요도 추가 "
      ],
      "metadata": {
        "id": "T1smfztjhhJh"
      }
    },
    {
      "cell_type": "code",
      "source": [
        "rf.fit(train_input, train_target)\n",
        "print(rf.feature_importances_)"
      ],
      "metadata": {
        "colab": {
          "base_uri": "https://localhost:8080/"
        },
        "id": "QTe2AtOXhmC3",
        "outputId": "90772e0b-8083-4e37-f1d4-f8ff29375270"
      },
      "execution_count": 5,
      "outputs": [
        {
          "output_type": "stream",
          "name": "stdout",
          "text": [
            "[0.04675861 0.04434308 0.02573744 0.04035245 0.02966773 0.06235841\n",
            " 0.02639391 0.03045617 0.02896488 0.02478212 0.03688391 0.03595398\n",
            " 0.03121349 0.03774705 0.04875298 0.03221102 0.0267639  0.03223916\n",
            " 0.03447494 0.03300057 0.03147311 0.03121608 0.02935912 0.02568233\n",
            " 0.03331554 0.03200525 0.00272332 0.00493195 0.01284817 0.00218865\n",
            " 0.00313696 0.00753597 0.01022077 0.01247733 0.00605144 0.00297814\n",
            " 0.01201578 0.01094951 0.0098478  0.0057128  0.00277934 0.00149485]\n"
          ]
        }
      ]
    },
    {
      "cell_type": "markdown",
      "source": [
        "### 하이퍼파라미터 튜닝 / 그리드 서치"
      ],
      "metadata": {
        "id": "0spNoKe8RRWz"
      }
    },
    {
      "cell_type": "code",
      "source": [
        "### parameter 들을 dictionary 형태로 설정\n",
        "# params = {'min_impurity_decrease': [0.0001, 0.0002, 0.0003, 0.0004, 0.0005],}\n",
        "\n",
        "params = {'min_impurity_decrease': np.arange(0.0001, 0.001, 0.0001), 'max_depth':range(5,20,1), 'min_samples_split':range(2, 100, 10)}\n",
        "dtree = DecisionTreeClassifier()\n"
      ],
      "metadata": {
        "id": "FRWKtdHERRHC"
      },
      "execution_count": 23,
      "outputs": []
    },
    {
      "cell_type": "code",
      "source": [
        "# refit=True 가 default 임. True이면 가장 좋은 파라미터 설정으로 재 학습 시킴.  \n",
        "gs = GridSearchCV(DecisionTreeClassifier(random_state=42), params, n_jobs=-1)\n",
        "# Train 데이터로 param_grid의 하이퍼 파라미터들을 순차적으로 학습/평가\n",
        "gs.fit(train_input, train_target)"
      ],
      "metadata": {
        "colab": {
          "base_uri": "https://localhost:8080/"
        },
        "id": "1YIOGHt6SGpi",
        "outputId": "21d42fe6-d2b0-400d-8898-f40ddf99958a"
      },
      "execution_count": 24,
      "outputs": [
        {
          "output_type": "stream",
          "name": "stdout",
          "text": [
            "dict_keys(['ccp_alpha', 'class_weight', 'criterion', 'max_depth', 'max_features', 'max_leaf_nodes', 'min_impurity_decrease', 'min_samples_leaf', 'min_samples_split', 'min_weight_fraction_leaf', 'random_state', 'splitter'])\n"
          ]
        },
        {
          "output_type": "execute_result",
          "data": {
            "text/plain": [
              "GridSearchCV(estimator=DecisionTreeClassifier(random_state=42), n_jobs=-1,\n",
              "             param_grid={'max_depth': range(5, 20),\n",
              "                         'min_impurity_decrease': array([0.0001, 0.0002, 0.0003, 0.0004, 0.0005, 0.0006, 0.0007, 0.0008,\n",
              "       0.0009]),\n",
              "                         'min_samples_split': range(2, 100, 10)})"
            ]
          },
          "metadata": {},
          "execution_count": 24
        }
      ]
    },
    {
      "cell_type": "code",
      "source": [
        "#best parameter 출력\n",
        "print(gs.best_params_)\n",
        "# GridSearchCV 결과 추출하여 DataFrame으로 변환\n",
        "# scores_df = pd.DataFrame(dtree.cv_results_)\n",
        "# scores_df[['params', 'mean_test_score', 'rank_test_score', \\\n",
        "#            'split0_test_score', 'split1_test_score', 'split2_test_score']]\n",
        "\n",
        "print(np.max(gs.cv_results_['mean_test_score']))"
      ],
      "metadata": {
        "colab": {
          "base_uri": "https://localhost:8080/"
        },
        "id": "yIpDUOmXaWPW",
        "outputId": "b41ef95a-b8b9-48c9-f2ba-715d906b4129"
      },
      "execution_count": 27,
      "outputs": [
        {
          "output_type": "stream",
          "name": "stdout",
          "text": [
            "{'max_depth': 14, 'min_impurity_decrease': 0.0002, 'min_samples_split': 2}\n",
            "0.7059638098562868\n"
          ]
        }
      ]
    },
    {
      "cell_type": "markdown",
      "source": [
        "### OOB 점수 출력"
      ],
      "metadata": {
        "id": "fjokd9ghijAQ"
      }
    },
    {
      "cell_type": "code",
      "source": [
        "rf = RandomForestClassifier(oob_score=True, n_jobs=-1, random_state=42)\n",
        "rf.fit(train_input, train_target)\n",
        "print(rf.oob_score_)"
      ],
      "metadata": {
        "colab": {
          "base_uri": "https://localhost:8080/"
        },
        "id": "vjbaLaSaimhy",
        "outputId": "0b5cdc0f-551e-420d-af39-455a2d0f965e"
      },
      "execution_count": 28,
      "outputs": [
        {
          "output_type": "stream",
          "name": "stdout",
          "text": [
            "0.778360201760459\n"
          ]
        }
      ]
    },
    {
      "cell_type": "markdown",
      "source": [
        "### 테스트 데이터 가져오기"
      ],
      "metadata": {
        "id": "rB49JKQmlQ6I"
      }
    },
    {
      "cell_type": "code",
      "source": [
        "test_data = pd.read_csv(\"test.csv\")\n",
        "test_data_rpm = test_data.fillna(test_data.mean())"
      ],
      "metadata": {
        "id": "QS2SrMO4lQi9"
      },
      "execution_count": 29,
      "outputs": []
    },
    {
      "cell_type": "code",
      "source": [
        "# print(test_data_rpm.shape)\n",
        "\n",
        "test_data_input = pd.concat((test_data_rpm.iloc[:,1:27], test_data_rpm.iloc[:,41:57]), axis=1)\n",
        "print(test_data_input.shape)"
      ],
      "metadata": {
        "colab": {
          "base_uri": "https://localhost:8080/"
        },
        "id": "0f5je40GBsU5",
        "outputId": "0621bd25-f444-4ec8-df25-286bca7e152f"
      },
      "execution_count": 30,
      "outputs": [
        {
          "output_type": "stream",
          "name": "stdout",
          "text": [
            "(35452, 42)\n"
          ]
        }
      ]
    },
    {
      "cell_type": "markdown",
      "source": [
        "### 모델링_Grid Search"
      ],
      "metadata": {
        "id": "s7Bklkbqn0zX"
      }
    },
    {
      "cell_type": "code",
      "source": [
        "# rf.fit(train_input, train_target)\n",
        "gs_pred= gs.predict(test_data_input)"
      ],
      "metadata": {
        "id": "AivmuJBtmF4e"
      },
      "execution_count": 31,
      "outputs": []
    },
    {
      "cell_type": "markdown",
      "source": [
        "### 제출 파일 생성"
      ],
      "metadata": {
        "id": "PYrdthmtjbKK"
      }
    },
    {
      "cell_type": "code",
      "source": [
        "submission = pd.read_csv('sample_submission.csv')"
      ],
      "metadata": {
        "id": "odvSIWD5jd_4"
      },
      "execution_count": 32,
      "outputs": []
    },
    {
      "cell_type": "code",
      "source": [
        "submission[\"nerdiness\"] = gs_pred\n",
        "submission.to_csv(\"baseline.csv\", index = False)"
      ],
      "metadata": {
        "id": "r7EFyp6njlPs"
      },
      "execution_count": 34,
      "outputs": []
    }
  ]
}