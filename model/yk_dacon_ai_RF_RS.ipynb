{
  "nbformat": 4,
  "nbformat_minor": 0,
  "metadata": {
    "colab": {
      "name": "yk_dacon_ai_RF.ipynb",
      "provenance": [],
      "collapsed_sections": []
    },
    "kernelspec": {
      "name": "python3",
      "display_name": "Python 3"
    },
    "language_info": {
      "name": "python"
    },
    "accelerator": "GPU",
    "gpuClass": "standard"
  },
  "cells": [
    {
      "cell_type": "code",
      "execution_count": 1,
      "metadata": {
        "id": "nI8FnCP38MLT"
      },
      "outputs": [],
      "source": [
        "import numpy as np\n",
        "import pandas as pd\n",
        "import matplotlib.pyplot as plt\n",
        "import matplotlib.pyplot as plt\n",
        "import warnings\n",
        "warnings.filterwarnings('ignore')\n",
        "\n",
        "from lightgbm import LGBMClassifier, LGBMClassifier\n",
        "from sklearn.model_selection import train_test_split, cross_validate\n",
        "from sklearn.ensemble import RandomForestClassifier\n",
        "from sklearn.datasets import load_iris\n",
        "from sklearn.tree import DecisionTreeClassifier\n",
        "from sklearn.model_selection import GridSearchCV\n",
        "from scipy.stats import uniform, randint"
      ]
    },
    {
      "cell_type": "markdown",
      "source": [
        "### 결측치 제거 "
      ],
      "metadata": {
        "id": "zJQ2IMJUA9p0"
      }
    },
    {
      "cell_type": "code",
      "source": [
        "# 데이터 가져오기\n",
        "train_data = pd.read_csv(\"train.csv\")\n",
        "train_data_drop = train_data.dropna()\n",
        "\n",
        "print(train_data_drop.info())\n",
        "\n",
        "\n",
        "'''\n",
        "train_data_drop = train_data.dropna()\n",
        "\n",
        "train_drop = train_data_drop.iloc[:, 1:27]\n",
        "#train_drop = train_drop.drop(['country'], axis=1)\n",
        "target_drop = train_data_drop.iloc[:, 69]\n",
        "\n",
        "'''\n",
        "# main_data_drop = pd.concat([idx1to26_drop, idx41to56_drop], axis=1)"
      ],
      "metadata": {
        "colab": {
          "base_uri": "https://localhost:8080/",
          "height": 1000
        },
        "id": "D1vRPGEy8eQ0",
        "outputId": "a791d974-11ea-4f9d-af38-565ab064ae86"
      },
      "execution_count": 2,
      "outputs": [
        {
          "output_type": "stream",
          "name": "stdout",
          "text": [
            "<class 'pandas.core.frame.DataFrame'>\n",
            "Int64Index: 12639 entries, 0 to 14999\n",
            "Data columns (total 70 columns):\n",
            " #   Column        Non-Null Count  Dtype  \n",
            "---  ------        --------------  -----  \n",
            " 0   index         12639 non-null  int64  \n",
            " 1   Q1            12639 non-null  float64\n",
            " 2   Q2            12639 non-null  float64\n",
            " 3   Q3            12639 non-null  float64\n",
            " 4   Q4            12639 non-null  float64\n",
            " 5   Q5            12639 non-null  float64\n",
            " 6   Q6            12639 non-null  float64\n",
            " 7   Q7            12639 non-null  float64\n",
            " 8   Q8            12639 non-null  float64\n",
            " 9   Q9            12639 non-null  float64\n",
            " 10  Q10           12639 non-null  float64\n",
            " 11  Q11           12639 non-null  float64\n",
            " 12  Q12           12639 non-null  float64\n",
            " 13  Q13           12639 non-null  float64\n",
            " 14  Q14           12639 non-null  float64\n",
            " 15  Q15           12639 non-null  float64\n",
            " 16  Q16           12639 non-null  float64\n",
            " 17  Q17           12639 non-null  float64\n",
            " 18  Q18           12639 non-null  float64\n",
            " 19  Q19           12639 non-null  float64\n",
            " 20  Q20           12639 non-null  float64\n",
            " 21  Q21           12639 non-null  float64\n",
            " 22  Q22           12639 non-null  float64\n",
            " 23  Q23           12639 non-null  float64\n",
            " 24  Q24           12639 non-null  float64\n",
            " 25  Q25           12639 non-null  float64\n",
            " 26  Q26           12639 non-null  float64\n",
            " 27  country       12639 non-null  object \n",
            " 28  introelapse   12639 non-null  int64  \n",
            " 29  testelapse    12639 non-null  int64  \n",
            " 30  surveyelapse  12639 non-null  int64  \n",
            " 31  TIPI1         12639 non-null  float64\n",
            " 32  TIPI2         12639 non-null  float64\n",
            " 33  TIPI3         12639 non-null  float64\n",
            " 34  TIPI4         12639 non-null  float64\n",
            " 35  TIPI5         12639 non-null  float64\n",
            " 36  TIPI6         12639 non-null  float64\n",
            " 37  TIPI7         12639 non-null  float64\n",
            " 38  TIPI8         12639 non-null  float64\n",
            " 39  TIPI9         12639 non-null  float64\n",
            " 40  TIPI10        12639 non-null  float64\n",
            " 41  VCL1          12639 non-null  int64  \n",
            " 42  VCL2          12639 non-null  int64  \n",
            " 43  VCL3          12639 non-null  int64  \n",
            " 44  VCL4          12639 non-null  int64  \n",
            " 45  VCL5          12639 non-null  int64  \n",
            " 46  VCL6          12639 non-null  int64  \n",
            " 47  VCL7          12639 non-null  int64  \n",
            " 48  VCL8          12639 non-null  int64  \n",
            " 49  VCL9          12639 non-null  int64  \n",
            " 50  VCL10         12639 non-null  int64  \n",
            " 51  VCL11         12639 non-null  int64  \n",
            " 52  VCL12         12639 non-null  int64  \n",
            " 53  VCL13         12639 non-null  int64  \n",
            " 54  VCL14         12639 non-null  int64  \n",
            " 55  VCL15         12639 non-null  int64  \n",
            " 56  VCL16         12639 non-null  int64  \n",
            " 57  education     12639 non-null  float64\n",
            " 58  urban         12639 non-null  int64  \n",
            " 59  gender        12639 non-null  float64\n",
            " 60  engnat        12639 non-null  float64\n",
            " 61  age           12639 non-null  int64  \n",
            " 62  hand          12639 non-null  float64\n",
            " 63  religion      12639 non-null  float64\n",
            " 64  orientation   12639 non-null  float64\n",
            " 65  voted         12639 non-null  float64\n",
            " 66  married       12639 non-null  float64\n",
            " 67  familysize    12639 non-null  float64\n",
            " 68  ASD           12639 non-null  float64\n",
            " 69  nerdiness     12639 non-null  int64  \n",
            "dtypes: float64(46), int64(23), object(1)\n",
            "memory usage: 6.8+ MB\n",
            "None\n"
          ]
        },
        {
          "output_type": "execute_result",
          "data": {
            "text/plain": [
              "\"\\ntrain_data_drop = train_data.dropna()\\n\\ntrain_drop = train_data_drop.iloc[:, 1:27]\\n#train_drop = train_drop.drop(['country'], axis=1)\\ntarget_drop = train_data_drop.iloc[:, 69]\\n\\n\""
            ],
            "application/vnd.google.colaboratory.intrinsic+json": {
              "type": "string"
            }
          },
          "metadata": {},
          "execution_count": 2
        }
      ]
    },
    {
      "cell_type": "code",
      "source": [
        "data = pd.concat((train_data_drop.iloc[:,1:27], train_data_drop.iloc[:,41:57]), axis=1)\n",
        "td = train_data_drop['nerdiness'].to_numpy()\n",
        "td_1 = td.reshape(-1,1)\n",
        "\n",
        "print(data.shape)\n",
        "print(td_1.shape)\n",
        "train_input, test_input, train_target, test_target = train_test_split(data, td_1, test_size=0.2, random_state=42)"
      ],
      "metadata": {
        "colab": {
          "base_uri": "https://localhost:8080/"
        },
        "id": "jCa1qnFU8yka",
        "outputId": "3a0050b5-7315-4653-d84c-b5528c7ec8b1"
      },
      "execution_count": 3,
      "outputs": [
        {
          "output_type": "stream",
          "name": "stdout",
          "text": [
            "(12639, 42)\n",
            "(12639, 1)\n"
          ]
        }
      ]
    },
    {
      "cell_type": "markdown",
      "source": [
        "### 랜덤 포레스트 작업"
      ],
      "metadata": {
        "id": "iONiRmpgQ8Lz"
      }
    },
    {
      "cell_type": "code",
      "source": [
        "rf = RandomForestClassifier(n_jobs=-1)\n",
        "scores = cross_validate(rf, train_input, train_target, return_train_score=True, n_jobs=-1)\n",
        "print(np.mean(scores['train_score']), np.mean(scores['test_score']))"
      ],
      "metadata": {
        "colab": {
          "base_uri": "https://localhost:8080/"
        },
        "id": "zlkmYMO48ero",
        "outputId": "9d9a2567-9e82-4915-9a6e-70a2b44ca971"
      },
      "execution_count": 4,
      "outputs": [
        {
          "output_type": "stream",
          "name": "stdout",
          "text": [
            "1.0 0.764316346192867\n"
          ]
        }
      ]
    },
    {
      "cell_type": "markdown",
      "source": [
        "### 특성 중요도 추가 "
      ],
      "metadata": {
        "id": "T1smfztjhhJh"
      }
    },
    {
      "cell_type": "code",
      "source": [
        "rf.fit(train_input, train_target)\n",
        "print(rf.feature_importances_)"
      ],
      "metadata": {
        "colab": {
          "base_uri": "https://localhost:8080/"
        },
        "id": "QTe2AtOXhmC3",
        "outputId": "9409139b-6399-4c26-a3d3-f6f14fc2b5c7"
      },
      "execution_count": 5,
      "outputs": [
        {
          "output_type": "stream",
          "name": "stdout",
          "text": [
            "[0.0446067  0.04558954 0.02472237 0.04154009 0.02934966 0.06287147\n",
            " 0.02662336 0.03092847 0.02714214 0.02494002 0.03926147 0.03588438\n",
            " 0.0308507  0.03761949 0.04867032 0.0321387  0.02606441 0.03242774\n",
            " 0.03337465 0.03281496 0.03172768 0.03150552 0.03085806 0.02591732\n",
            " 0.03325445 0.03210441 0.00282946 0.0046758  0.01233251 0.00241465\n",
            " 0.00328402 0.00715209 0.01011922 0.01261909 0.00626663 0.00299551\n",
            " 0.01173111 0.01109897 0.01019522 0.0052868  0.00278437 0.00142646]\n"
          ]
        }
      ]
    },
    {
      "cell_type": "markdown",
      "source": [
        "### 하이퍼파라미터 튜닝 / 랜덤서치"
      ],
      "metadata": {
        "id": "0spNoKe8RRWz"
      }
    },
    {
      "cell_type": "code",
      "source": [
        "rgen = randint(0,10)\n",
        "rgen.rvs(10)"
      ],
      "metadata": {
        "colab": {
          "base_uri": "https://localhost:8080/"
        },
        "id": "FRWKtdHERRHC",
        "outputId": "4be834a4-68e1-4fbf-80bf-783c07bade41"
      },
      "execution_count": 6,
      "outputs": [
        {
          "output_type": "execute_result",
          "data": {
            "text/plain": [
              "array([4, 1, 3, 1, 8, 5, 0, 3, 5, 4])"
            ]
          },
          "metadata": {},
          "execution_count": 6
        }
      ]
    },
    {
      "cell_type": "code",
      "source": [
        "np.unique(rgen.rvs(1000), return_counts=True)"
      ],
      "metadata": {
        "colab": {
          "base_uri": "https://localhost:8080/"
        },
        "id": "1YIOGHt6SGpi",
        "outputId": "f3770987-a410-4e2d-bf8a-1149da19b225"
      },
      "execution_count": 7,
      "outputs": [
        {
          "output_type": "execute_result",
          "data": {
            "text/plain": [
              "(array([0, 1, 2, 3, 4, 5, 6, 7, 8, 9]),\n",
              " array([ 96, 102, 109, 105,  92, 102, 109,  90,  94, 101]))"
            ]
          },
          "metadata": {},
          "execution_count": 7
        }
      ]
    },
    {
      "cell_type": "code",
      "source": [
        "ugen = uniform(0,1)\n",
        "ugen.rvs(10)\n"
      ],
      "metadata": {
        "colab": {
          "base_uri": "https://localhost:8080/"
        },
        "id": "yIpDUOmXaWPW",
        "outputId": "df69fbc7-bfd8-475e-c52d-7a474d89419c"
      },
      "execution_count": 8,
      "outputs": [
        {
          "output_type": "execute_result",
          "data": {
            "text/plain": [
              "array([0.43453821, 0.26886436, 0.79266187, 0.67999027, 0.23262216,\n",
              "       0.51978178, 0.79639487, 0.29713513, 0.36829007, 0.65083476])"
            ]
          },
          "metadata": {},
          "execution_count": 8
        }
      ]
    },
    {
      "cell_type": "code",
      "source": [
        "params ={'min_impurity_decrease': uniform(0.0001, 0.001), 'max_depth': randint(20,50), 'min_samples_split': randint(2,25), 'min_samples_leaf': randint(1,25),}"
      ],
      "metadata": {
        "id": "pGMszutByQ7b"
      },
      "execution_count": 9,
      "outputs": []
    },
    {
      "cell_type": "code",
      "source": [
        "from sklearn.model_selection import RandomizedSearchCV\n",
        "\n",
        "gs = RandomizedSearchCV(DecisionTreeClassifier(random_state=42), params, n_iter=100, n_jobs=-1, random_state=42)"
      ],
      "metadata": {
        "id": "U-Dkn42Pyofn"
      },
      "execution_count": 10,
      "outputs": []
    },
    {
      "cell_type": "code",
      "source": [
        "gs.fit(train_input, train_target)\n",
        "print(gs.best_params_)\n",
        "print(np.max(gs.cv_results_['mean_test_score']))"
      ],
      "metadata": {
        "colab": {
          "base_uri": "https://localhost:8080/"
        },
        "id": "nGSTWN-vzBCq",
        "outputId": "32580049-da54-4708-d76b-1e269e9f41c0"
      },
      "execution_count": 11,
      "outputs": [
        {
          "output_type": "stream",
          "name": "stdout",
          "text": [
            "{'max_depth': 26, 'min_impurity_decrease': 0.0002743664290049914, 'min_samples_leaf': 1, 'min_samples_split': 9}\n",
            "0.6979519893137915\n"
          ]
        }
      ]
    },
    {
      "cell_type": "code",
      "source": [
        "dt = gs.best_estimator_\n",
        "print(dt.score(test_input, test_target))"
      ],
      "metadata": {
        "colab": {
          "base_uri": "https://localhost:8080/"
        },
        "id": "7q79YlvszRja",
        "outputId": "56378947-c00e-4364-9261-ba7d6e157684"
      },
      "execution_count": 12,
      "outputs": [
        {
          "output_type": "stream",
          "name": "stdout",
          "text": [
            "0.7132120253164557\n"
          ]
        }
      ]
    },
    {
      "cell_type": "markdown",
      "source": [
        "### OOB 점수 출력"
      ],
      "metadata": {
        "id": "fjokd9ghijAQ"
      }
    },
    {
      "cell_type": "code",
      "source": [
        "# dt = DecisionTreeClassifier(oob_score=True, n_jobs=-1, random_state=42)\n",
        "# # rf.fit(train_input, train_target)\n",
        "# print(dt.oob_score_)"
      ],
      "metadata": {
        "id": "vjbaLaSaimhy"
      },
      "execution_count": 13,
      "outputs": []
    },
    {
      "cell_type": "markdown",
      "source": [
        "### 테스트 데이터 가져오기"
      ],
      "metadata": {
        "id": "rB49JKQmlQ6I"
      }
    },
    {
      "cell_type": "code",
      "source": [
        "test_data = pd.read_csv(\"test.csv\")\n",
        "test_data_rpm = test_data.fillna(test_data.mean())"
      ],
      "metadata": {
        "id": "QS2SrMO4lQi9"
      },
      "execution_count": 14,
      "outputs": []
    },
    {
      "cell_type": "code",
      "source": [
        "# print(test_data_rpm.shape)\n",
        "\n",
        "test_data_input = pd.concat((test_data_rpm.iloc[:,1:27], test_data_rpm.iloc[:,41:57]), axis=1)\n",
        "print(test_data_input.shape)"
      ],
      "metadata": {
        "colab": {
          "base_uri": "https://localhost:8080/"
        },
        "id": "0f5je40GBsU5",
        "outputId": "9e3b0dd5-7d18-4d27-f927-eaccf3502d26"
      },
      "execution_count": 15,
      "outputs": [
        {
          "output_type": "stream",
          "name": "stdout",
          "text": [
            "(35452, 42)\n"
          ]
        }
      ]
    },
    {
      "cell_type": "markdown",
      "source": [
        "### 모델링_Random Search"
      ],
      "metadata": {
        "id": "s7Bklkbqn0zX"
      }
    },
    {
      "cell_type": "code",
      "source": [
        "# rf.fit(train_input, train_target)\n",
        "dt_pred= dt.predict(test_data_input)"
      ],
      "metadata": {
        "id": "AivmuJBtmF4e"
      },
      "execution_count": 16,
      "outputs": []
    },
    {
      "cell_type": "markdown",
      "source": [
        "### 제출 파일 생성"
      ],
      "metadata": {
        "id": "PYrdthmtjbKK"
      }
    },
    {
      "cell_type": "code",
      "source": [
        "submission = pd.read_csv('sample_submission.csv')"
      ],
      "metadata": {
        "id": "odvSIWD5jd_4"
      },
      "execution_count": 17,
      "outputs": []
    },
    {
      "cell_type": "code",
      "source": [
        "submission[\"nerdiness\"] = dt_pred\n",
        "submission.to_csv(\"baseline.csv\", index = False)"
      ],
      "metadata": {
        "id": "r7EFyp6njlPs"
      },
      "execution_count": 18,
      "outputs": []
    }
  ]
}