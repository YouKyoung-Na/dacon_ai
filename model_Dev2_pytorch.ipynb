{
  "nbformat": 4,
  "nbformat_minor": 0,
  "metadata": {
    "colab": {
      "name": "model_Dev2_pytorch.ipynb",
      "provenance": [],
      "collapsed_sections": []
    },
    "kernelspec": {
      "name": "python3",
      "display_name": "Python 3"
    },
    "language_info": {
      "name": "python"
    },
    "accelerator": "GPU",
    "gpuClass": "standard"
  },
  "cells": [
    {
      "cell_type": "code",
      "execution_count": null,
      "metadata": {
        "id": "_CxaQc9PdLCq"
      },
      "outputs": [],
      "source": [
        "# library import\n",
        "import pandas as pd\n",
        "import numpy as np\n",
        "import matplotlib.pyplot as plt\n",
        "\n",
        "import sklearn\n",
        "import torch\n",
        "import torch.nn.functional as F\n",
        "import torch.nn as nn\n",
        "from torch.utils.data import DataLoader, Dataset"
      ]
    },
    {
      "cell_type": "code",
      "source": [
        "# gpu 사용하기\n",
        "device = \"cuda\" if torch.cuda.is_available() else \"cpu\"\n",
        "print(device)"
      ],
      "metadata": {
        "colab": {
          "base_uri": "https://localhost:8080/"
        },
        "id": "fl4myqXOhwi5",
        "outputId": "a837e73a-bb95-4cec-aa32-5accd6e44ed3"
      },
      "execution_count": null,
      "outputs": [
        {
          "output_type": "stream",
          "name": "stdout",
          "text": [
            "cuda\n"
          ]
        }
      ]
    },
    {
      "cell_type": "code",
      "source": [
        "# 데이터 가져오기\n",
        "train_data = pd.read_csv(\"train.csv\")\n",
        "train_data_drop = train_data.dropna()\n",
        "\n",
        "# 데이터 쪼개기 => 결측치 제거한 값으로\n",
        "idx1to26_drop = train_data_drop.iloc[:, 1:27]\n",
        "idx28to40_drop = train_data_drop.iloc[:, 28:41]\n",
        "idx41to56_drop = train_data_drop.iloc[:, 41:57]\n",
        "idx57to68_drop = train_data_drop.iloc[:, 57:69]\n",
        "target_drop = train_data_drop.iloc[:, 69]\n",
        "\n",
        "main_data_drop = pd.concat([idx1to26_drop, idx28to40_drop], axis=1)"
      ],
      "metadata": {
        "id": "T4KLlt6DdYZg"
      },
      "execution_count": null,
      "outputs": []
    },
    {
      "cell_type": "code",
      "source": [
        "all_main1_data_drop = pd.concat([idx1to26_drop, target_drop], axis=1).corr().iloc[:, -1]"
      ],
      "metadata": {
        "id": "U2clWv1UdnWk"
      },
      "execution_count": null,
      "outputs": []
    },
    {
      "cell_type": "code",
      "source": [
        "all_main1_data_drop"
      ],
      "metadata": {
        "colab": {
          "base_uri": "https://localhost:8080/"
        },
        "id": "fp2P_90ReT7K",
        "outputId": "238f7ee5-ece0-4d2c-90fe-411733dfd243"
      },
      "execution_count": null,
      "outputs": [
        {
          "output_type": "execute_result",
          "data": {
            "text/plain": [
              "Q1           0.289843\n",
              "Q2           0.266649\n",
              "Q3           0.202462\n",
              "Q4           0.267638\n",
              "Q5           0.237976\n",
              "Q6           0.307921\n",
              "Q7           0.204040\n",
              "Q8           0.228912\n",
              "Q9           0.226813\n",
              "Q10          0.181467\n",
              "Q11          0.215895\n",
              "Q12          0.249189\n",
              "Q13          0.212534\n",
              "Q14          0.234190\n",
              "Q15          0.248817\n",
              "Q16          0.172716\n",
              "Q17          0.201207\n",
              "Q18          0.178439\n",
              "Q19          0.156633\n",
              "Q20          0.215139\n",
              "Q21          0.158997\n",
              "Q22          0.162194\n",
              "Q23          0.200746\n",
              "Q24          0.235224\n",
              "Q25          0.177255\n",
              "Q26          0.249805\n",
              "nerdiness    1.000000\n",
              "Name: nerdiness, dtype: float64"
            ]
          },
          "metadata": {},
          "execution_count": 36
        }
      ]
    },
    {
      "cell_type": "code",
      "source": [
        "all_main2_data_drop = pd.concat([idx28to40_drop, target_drop], axis=1).corr().iloc[:, -1]"
      ],
      "metadata": {
        "id": "IvSlNIjDeqoR"
      },
      "execution_count": null,
      "outputs": []
    },
    {
      "cell_type": "code",
      "source": [
        "print(all_main2_data_drop)"
      ],
      "metadata": {
        "colab": {
          "base_uri": "https://localhost:8080/"
        },
        "id": "3KI4TPxIe0-O",
        "outputId": "60ae2094-a66e-407c-9646-c5b25f821e05"
      },
      "execution_count": null,
      "outputs": [
        {
          "output_type": "stream",
          "name": "stdout",
          "text": [
            "introelapse     0.006075\n",
            "testelapse      0.005393\n",
            "surveyelapse    0.012989\n",
            "TIPI1          -0.099353\n",
            "TIPI2           0.027334\n",
            "TIPI3           0.033205\n",
            "TIPI4           0.044497\n",
            "TIPI5           0.035008\n",
            "TIPI6           0.084720\n",
            "TIPI7           0.035616\n",
            "TIPI8           0.032185\n",
            "TIPI9          -0.015910\n",
            "TIPI10         -0.099571\n",
            "nerdiness       1.000000\n",
            "Name: nerdiness, dtype: float64\n"
          ]
        }
      ]
    },
    {
      "cell_type": "code",
      "source": [
        "from sklearn.model_selection import train_test_split\n",
        "main_train_input, main_test_input, main_train_target, main_test_target = train_test_split(idx1to26_drop, target_drop)"
      ],
      "metadata": {
        "id": "CbJiq-H_g61q"
      },
      "execution_count": null,
      "outputs": []
    },
    {
      "cell_type": "code",
      "source": [
        "# CustomDataset\n",
        "class CustomDataset(Dataset):\n",
        "  def __init__(self, input, target):\n",
        "    self.input = input\n",
        "    self.target = target\n",
        "  \n",
        "  def __len__(self):\n",
        "    return len(self.target)\n",
        "\n",
        "  def __getitem__(self, idx):\n",
        "    sample = torch.tensor(self.input.iloc[idx, :]).float()\n",
        "    label = torch.tensor(self.target.iloc[idx]).float()\n",
        "    return sample, label"
      ],
      "metadata": {
        "id": "v8YeNZakhMVc"
      },
      "execution_count": null,
      "outputs": []
    },
    {
      "cell_type": "code",
      "source": [
        "train_dataset = CustomDataset(main_train_input, main_train_target)\n",
        "test_dataset = CustomDataset(main_test_input, main_test_target)\n",
        "\n",
        "train_loader = DataLoader(train_dataset, batch_size=128)\n",
        "test_loader = DataLoader(test_dataset, batch_size=128)"
      ],
      "metadata": {
        "id": "thJ0Le_ChahQ"
      },
      "execution_count": null,
      "outputs": []
    },
    {
      "cell_type": "code",
      "source": [
        "class NN(nn.Module):\n",
        "  def __init__(self):\n",
        "    # nn 모듈을 사용하는 경우에는 모두 init안에 정의를 해 주어야 한다.\n",
        "    super(NN, self).__init__()\n",
        "    self.fc1 = nn.Linear(in_features=26, out_features=20)\n",
        "    self.fc2 = nn.Linear(in_features=20, out_features=16)\n",
        "    self.fc3 = nn.Linear(in_features=16, out_features=8)\n",
        "    self.fc4 = nn.Linear(in_features=8, out_features=4)\n",
        "    self.fc5 = nn.Linear(in_features=4, out_features=1)\n",
        "    self.drop = nn.Dropout(0.3)\n",
        "\n",
        "  def forward(self, input_data):\n",
        "    out = F.relu(self.fc1(input_data))\n",
        "    out = self.drop(out)\n",
        "    out = F.relu(self.fc2(out))\n",
        "    out = F.relu(self.fc3(out))\n",
        "    out = F.relu(self.fc4(out))\n",
        "    out = torch.sigmoid(self.fc5(out))\n",
        "    return out\n",
        "\n",
        "# 모델 객체 생성\n",
        "model_main = NN().to(device)\n",
        "print(model_main)"
      ],
      "metadata": {
        "colab": {
          "base_uri": "https://localhost:8080/"
        },
        "id": "RfJ5IqEBhfjp",
        "outputId": "fc45d842-794a-4133-9d52-b3f296ac32b6"
      },
      "execution_count": null,
      "outputs": [
        {
          "output_type": "stream",
          "name": "stdout",
          "text": [
            "NN(\n",
            "  (fc1): Linear(in_features=26, out_features=20, bias=True)\n",
            "  (fc2): Linear(in_features=20, out_features=16, bias=True)\n",
            "  (fc3): Linear(in_features=16, out_features=8, bias=True)\n",
            "  (fc4): Linear(in_features=8, out_features=4, bias=True)\n",
            "  (fc5): Linear(in_features=4, out_features=1, bias=True)\n",
            "  (drop): Dropout(p=0.3, inplace=False)\n",
            ")\n"
          ]
        }
      ]
    },
    {
      "cell_type": "code",
      "source": [
        "# loss = cross entropy\n",
        "# optimizer = adam\n",
        "\n",
        "laerning_rate = 0.001\n",
        "\n",
        "criterion = nn.BCELoss()\n",
        "optimizer = torch.optim.Adam(model_main.parameters(), lr=laerning_rate)"
      ],
      "metadata": {
        "id": "4V9xI4j9h0Yw"
      },
      "execution_count": null,
      "outputs": []
    },
    {
      "cell_type": "code",
      "source": [
        "epochs = 1000\n",
        "aggregated_losses = []\n",
        "for i in range(epochs):\n",
        "    for x, y in train_loader:\n",
        "        x = x.to(device); y = y.to(device)\n",
        "        # print(x)\n",
        "        # print(y)\n",
        "        output = model_main(x).view(-1)\n",
        "        # print(output)\n",
        "        # print(y)\n",
        "        loss = criterion(output, y)\n",
        "        \n",
        "        optimizer.zero_grad()\n",
        "        loss.backward()\n",
        "        optimizer.step()"
      ],
      "metadata": {
        "id": "gshT0LX8h1YA"
      },
      "execution_count": null,
      "outputs": []
    },
    {
      "cell_type": "code",
      "source": [
        "for i, (x, y) in enumerate(test_loader):\n",
        "  x = x.to(device); y = y.to(device)\n",
        "  outputs = model_main(x).view(-1)\n",
        "  # accuracy_ls = []\n",
        "\n",
        "  # for output in outputs:\n",
        "  #   if output > 0.5:\n",
        "  #     accuracy_ls.append(True)\n",
        "  #   else:\n",
        "  #     accuracy_ls.append(False)\n",
        "  # accuracy = sum(y == accuracy_ls) / len(x)\n",
        "  # print(accuracy)\n",
        "  print(outputs)\n",
        "  print(y)\n",
        "  break"
      ],
      "metadata": {
        "colab": {
          "base_uri": "https://localhost:8080/"
        },
        "id": "FL8DX-asiOcb",
        "outputId": "9807520b-0c77-4527-fa30-590b4e8266bf"
      },
      "execution_count": null,
      "outputs": [
        {
          "output_type": "stream",
          "name": "stdout",
          "text": [
            "tensor([0.8771, 0.6767, 0.7028, 0.8529, 0.8038, 0.9532, 0.4466, 0.2973, 0.8315,\n",
            "        0.9092, 0.2881, 0.8377, 0.6855, 0.8162, 0.8578, 0.3698, 0.7550, 0.4080,\n",
            "        0.6395, 0.6539, 0.9110, 0.3218, 0.2656, 0.7036, 0.4442, 0.4612, 0.8128,\n",
            "        0.3500, 0.3371, 0.6573, 0.5310, 0.7258, 0.5786, 0.7924, 0.7771, 0.2362,\n",
            "        0.1537, 0.9216, 0.3835, 0.3078, 0.3317, 0.8021, 0.4255, 0.6690, 0.6281,\n",
            "        0.8650, 0.7516, 0.7902, 0.9404, 0.0799, 0.0722, 0.8657, 0.2934, 0.7327,\n",
            "        0.5973, 0.7591, 0.1560, 0.5933, 0.0579, 0.5754, 0.7952, 0.6812, 0.8555,\n",
            "        0.4151, 0.3540, 0.8584, 0.5293, 0.8578, 0.2770, 0.6774, 0.3992, 0.8196,\n",
            "        0.6188, 0.3444, 0.6859, 0.8706, 0.3106, 0.7782, 0.7121, 0.2822, 0.4100,\n",
            "        0.8264, 0.4244, 0.3518, 0.2427, 0.8270, 0.9454, 0.4112, 0.7096, 0.4587,\n",
            "        0.5622, 0.1514, 0.8690, 0.2363, 0.5401, 0.7753, 0.8377, 0.7684, 0.7073,\n",
            "        0.5312, 0.7362, 0.5249, 0.2945, 0.3000, 0.2790, 0.7157, 0.9399, 0.8935,\n",
            "        0.3164, 0.6800, 0.1173, 0.8238, 0.4165, 0.7488, 0.1484, 0.6528, 0.6815,\n",
            "        0.8466, 0.5866, 0.4998, 0.6253, 0.0740, 0.7168, 0.8058, 0.1347, 0.5346,\n",
            "        0.4348, 0.6490], device='cuda:0', grad_fn=<ViewBackward0>)\n",
            "tensor([1., 1., 1., 1., 1., 1., 1., 0., 1., 1., 0., 0., 0., 0., 1., 0., 0., 1.,\n",
            "        1., 0., 1., 0., 0., 1., 1., 1., 1., 1., 0., 1., 1., 1., 0., 1., 1., 0.,\n",
            "        0., 1., 0., 0., 0., 1., 0., 1., 1., 1., 1., 1., 1., 0., 1., 1., 0., 1.,\n",
            "        0., 1., 0., 1., 1., 1., 1., 0., 0., 1., 1., 1., 1., 1., 1., 1., 0., 1.,\n",
            "        1., 0., 1., 1., 0., 1., 1., 0., 0., 1., 1., 1., 0., 1., 1., 0., 0., 0.,\n",
            "        0., 0., 1., 0., 1., 1., 1., 0., 1., 1., 1., 1., 0., 1., 0., 1., 1., 1.,\n",
            "        1., 1., 1., 0., 1., 1., 1., 1., 1., 1., 1., 0., 1., 0., 1., 1., 0., 0.,\n",
            "        0., 1.], device='cuda:0')\n"
          ]
        }
      ]
    },
    {
      "cell_type": "code",
      "source": [
        "print(torch.tensor([1,0,0,1,0,0,1,1,1,0,1,0,1,0,0,0,1,1]))"
      ],
      "metadata": {
        "colab": {
          "base_uri": "https://localhost:8080/"
        },
        "id": "B9reXxv3jYHB",
        "outputId": "ec39388b-0649-4175-8863-98ab5a316a8b"
      },
      "execution_count": null,
      "outputs": [
        {
          "output_type": "stream",
          "name": "stdout",
          "text": [
            "tensor([1, 0, 0, 1, 0, 0, 1, 1, 1, 0, 1, 0, 1, 0, 0, 0, 1, 1])\n"
          ]
        }
      ]
    },
    {
      "cell_type": "code",
      "source": [
        "# 모델 평가 코드\n",
        "! pip install torchmetrics\n",
        "import torchmetrics\n",
        "\n",
        "metrics = torchmetrics.Accuracy()\n",
        "\n",
        "predict = torch.round(model_main(torch.Tensor(main_test_input.to_numpy()).to(device)))\n",
        "target = torch.tensor(main_test_target.to_numpy())\n",
        "\n",
        "acc = torchmetrics.functional.accuracy(predict, target.to(device))\n",
        "print(acc.item())"
      ],
      "metadata": {
        "colab": {
          "base_uri": "https://localhost:8080/"
        },
        "id": "O-cy6q41jOWQ",
        "outputId": "ed7cdd98-744a-4868-9149-2a309a9b5c5a"
      },
      "execution_count": null,
      "outputs": [
        {
          "output_type": "stream",
          "name": "stdout",
          "text": [
            "Looking in indexes: https://pypi.org/simple, https://us-python.pkg.dev/colab-wheels/public/simple/\n",
            "Requirement already satisfied: torchmetrics in /usr/local/lib/python3.7/dist-packages (0.9.3)\n",
            "Requirement already satisfied: numpy>=1.17.2 in /usr/local/lib/python3.7/dist-packages (from torchmetrics) (1.21.6)\n",
            "Requirement already satisfied: packaging in /usr/local/lib/python3.7/dist-packages (from torchmetrics) (21.3)\n",
            "Requirement already satisfied: typing-extensions in /usr/local/lib/python3.7/dist-packages (from torchmetrics) (4.1.1)\n",
            "Requirement already satisfied: torch>=1.3.1 in /usr/local/lib/python3.7/dist-packages (from torchmetrics) (1.12.0+cu113)\n",
            "Requirement already satisfied: pyparsing!=3.0.5,>=2.0.2 in /usr/local/lib/python3.7/dist-packages (from packaging->torchmetrics) (3.0.9)\n",
            "0.7126582264900208\n"
          ]
        }
      ]
    },
    {
      "cell_type": "code",
      "source": [
        "# testfile\n"
      ],
      "metadata": {
        "id": "LhpR7nHPsq5c"
      },
      "execution_count": null,
      "outputs": []
    }
  ]
}