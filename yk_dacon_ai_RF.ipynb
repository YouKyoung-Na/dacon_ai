{
  "nbformat": 4,
  "nbformat_minor": 0,
  "metadata": {
    "colab": {
      "name": "yk_dacon_ai_RF.ipynb",
      "provenance": [],
      "collapsed_sections": []
    },
    "kernelspec": {
      "name": "python3",
      "display_name": "Python 3"
    },
    "language_info": {
      "name": "python"
    }
  },
  "cells": [
    {
      "cell_type": "code",
      "execution_count": 9,
      "metadata": {
        "id": "nI8FnCP38MLT"
      },
      "outputs": [],
      "source": [
        "import numpy as np\n",
        "import pandas as pd\n",
        "import matplotlib.pyplot as plt\n",
        "import matplotlib.pyplot as plt\n",
        "import warnings\n",
        "warnings.filterwarnings('ignore')\n",
        "\n",
        "from lightgbm import LGBMClassifier, LGBMClassifier\n",
        "from sklearn.model_selection import train_test_split, cross_validate\n",
        "from sklearn.ensemble import RandomForestClassifier"
      ]
    },
    {
      "cell_type": "code",
      "source": [
        "# 데이터 가져오기\n",
        "train_data = pd.read_csv(\"train.csv\")\n",
        "train_data_drop = train_data.dropna()\n",
        "\n",
        "print(train_data_drop.info())\n",
        "\n",
        "# main_data_drop = pd.concat([idx1to26_drop, idx41to56_drop], axis=1)"
      ],
      "metadata": {
        "colab": {
          "base_uri": "https://localhost:8080/"
        },
        "id": "D1vRPGEy8eQ0",
        "outputId": "faefaaa6-5c34-4df6-940a-fe487265757d"
      },
      "execution_count": 2,
      "outputs": [
        {
          "output_type": "stream",
          "name": "stdout",
          "text": [
            "<class 'pandas.core.frame.DataFrame'>\n",
            "Int64Index: 12639 entries, 0 to 14999\n",
            "Data columns (total 70 columns):\n",
            " #   Column        Non-Null Count  Dtype  \n",
            "---  ------        --------------  -----  \n",
            " 0   index         12639 non-null  int64  \n",
            " 1   Q1            12639 non-null  float64\n",
            " 2   Q2            12639 non-null  float64\n",
            " 3   Q3            12639 non-null  float64\n",
            " 4   Q4            12639 non-null  float64\n",
            " 5   Q5            12639 non-null  float64\n",
            " 6   Q6            12639 non-null  float64\n",
            " 7   Q7            12639 non-null  float64\n",
            " 8   Q8            12639 non-null  float64\n",
            " 9   Q9            12639 non-null  float64\n",
            " 10  Q10           12639 non-null  float64\n",
            " 11  Q11           12639 non-null  float64\n",
            " 12  Q12           12639 non-null  float64\n",
            " 13  Q13           12639 non-null  float64\n",
            " 14  Q14           12639 non-null  float64\n",
            " 15  Q15           12639 non-null  float64\n",
            " 16  Q16           12639 non-null  float64\n",
            " 17  Q17           12639 non-null  float64\n",
            " 18  Q18           12639 non-null  float64\n",
            " 19  Q19           12639 non-null  float64\n",
            " 20  Q20           12639 non-null  float64\n",
            " 21  Q21           12639 non-null  float64\n",
            " 22  Q22           12639 non-null  float64\n",
            " 23  Q23           12639 non-null  float64\n",
            " 24  Q24           12639 non-null  float64\n",
            " 25  Q25           12639 non-null  float64\n",
            " 26  Q26           12639 non-null  float64\n",
            " 27  country       12639 non-null  object \n",
            " 28  introelapse   12639 non-null  int64  \n",
            " 29  testelapse    12639 non-null  int64  \n",
            " 30  surveyelapse  12639 non-null  int64  \n",
            " 31  TIPI1         12639 non-null  float64\n",
            " 32  TIPI2         12639 non-null  float64\n",
            " 33  TIPI3         12639 non-null  float64\n",
            " 34  TIPI4         12639 non-null  float64\n",
            " 35  TIPI5         12639 non-null  float64\n",
            " 36  TIPI6         12639 non-null  float64\n",
            " 37  TIPI7         12639 non-null  float64\n",
            " 38  TIPI8         12639 non-null  float64\n",
            " 39  TIPI9         12639 non-null  float64\n",
            " 40  TIPI10        12639 non-null  float64\n",
            " 41  VCL1          12639 non-null  int64  \n",
            " 42  VCL2          12639 non-null  int64  \n",
            " 43  VCL3          12639 non-null  int64  \n",
            " 44  VCL4          12639 non-null  int64  \n",
            " 45  VCL5          12639 non-null  int64  \n",
            " 46  VCL6          12639 non-null  int64  \n",
            " 47  VCL7          12639 non-null  int64  \n",
            " 48  VCL8          12639 non-null  int64  \n",
            " 49  VCL9          12639 non-null  int64  \n",
            " 50  VCL10         12639 non-null  int64  \n",
            " 51  VCL11         12639 non-null  int64  \n",
            " 52  VCL12         12639 non-null  int64  \n",
            " 53  VCL13         12639 non-null  int64  \n",
            " 54  VCL14         12639 non-null  int64  \n",
            " 55  VCL15         12639 non-null  int64  \n",
            " 56  VCL16         12639 non-null  int64  \n",
            " 57  education     12639 non-null  float64\n",
            " 58  urban         12639 non-null  int64  \n",
            " 59  gender        12639 non-null  float64\n",
            " 60  engnat        12639 non-null  float64\n",
            " 61  age           12639 non-null  int64  \n",
            " 62  hand          12639 non-null  float64\n",
            " 63  religion      12639 non-null  float64\n",
            " 64  orientation   12639 non-null  float64\n",
            " 65  voted         12639 non-null  float64\n",
            " 66  married       12639 non-null  float64\n",
            " 67  familysize    12639 non-null  float64\n",
            " 68  ASD           12639 non-null  float64\n",
            " 69  nerdiness     12639 non-null  int64  \n",
            "dtypes: float64(46), int64(23), object(1)\n",
            "memory usage: 6.8+ MB\n",
            "None\n"
          ]
        }
      ]
    },
    {
      "cell_type": "code",
      "source": [
        "data = pd.concat((train_data_drop.iloc[:,1:27], train_data_drop.iloc[:,41:57]), axis=1)\n",
        "td = train_data_drop['nerdiness'].to_numpy()\n",
        "td_1 = td.reshape(-1,1)\n",
        "\n",
        "print(data.shape)\n",
        "print(td_1.shape)\n",
        "train_input, test_input, train_target, test_target = train_test_split(data, td_1, test_size=0.2, random_state=42)"
      ],
      "metadata": {
        "colab": {
          "base_uri": "https://localhost:8080/"
        },
        "id": "jCa1qnFU8yka",
        "outputId": "bd287c0e-c9bb-44e8-9ec1-72a8c9a9aba3"
      },
      "execution_count": 3,
      "outputs": [
        {
          "output_type": "stream",
          "name": "stdout",
          "text": [
            "(12639, 42)\n",
            "(12639, 1)\n"
          ]
        }
      ]
    },
    {
      "cell_type": "code",
      "source": [
        "rf = RandomForestClassifier(n_jobs=-1)\n",
        "scores = cross_validate(rf, train_input, train_target, return_train_score=True, n_jobs=-1)\n",
        "print(np.mean(scores['train_score']), np.mean(scores['test_score']))"
      ],
      "metadata": {
        "colab": {
          "base_uri": "https://localhost:8080/"
        },
        "id": "zlkmYMO48ero",
        "outputId": "6ef104d2-574e-4594-ad52-fdd974f546af"
      },
      "execution_count": 4,
      "outputs": [
        {
          "output_type": "stream",
          "name": "stdout",
          "text": [
            "1.0 0.7702500864196263\n"
          ]
        }
      ]
    },
    {
      "cell_type": "markdown",
      "source": [
        "### 특성 중요도 추가 "
      ],
      "metadata": {
        "id": "T1smfztjhhJh"
      }
    },
    {
      "cell_type": "code",
      "source": [
        "rf.fit(train_input, train_target)\n",
        "print(rf.feature_importances_)"
      ],
      "metadata": {
        "colab": {
          "base_uri": "https://localhost:8080/"
        },
        "id": "QTe2AtOXhmC3",
        "outputId": "f9a68c53-279c-4783-9f6e-d831449a987d"
      },
      "execution_count": 5,
      "outputs": [
        {
          "output_type": "stream",
          "name": "stdout",
          "text": [
            "[0.0447719  0.04439505 0.02466411 0.03974549 0.02951212 0.06125102\n",
            " 0.02627651 0.03165584 0.02898535 0.02458176 0.03971033 0.03875809\n",
            " 0.03179332 0.03663584 0.04876655 0.03253745 0.02611648 0.03113972\n",
            " 0.03437626 0.03261112 0.03148162 0.03133752 0.03091893 0.02568828\n",
            " 0.03316582 0.03229851 0.00285977 0.00489519 0.0128586  0.00220121\n",
            " 0.00317387 0.00717323 0.00987336 0.01252972 0.00592533 0.00300562\n",
            " 0.01191422 0.0109168  0.01008494 0.00527009 0.00273379 0.00140925]\n"
          ]
        }
      ]
    },
    {
      "cell_type": "markdown",
      "source": [
        "### OOB 점수 출력"
      ],
      "metadata": {
        "id": "fjokd9ghijAQ"
      }
    },
    {
      "cell_type": "code",
      "source": [
        "rf = RandomForestClassifier(oob_score=True, n_jobs=-1, random_state=42)\n",
        "rf.fit(train_input, train_target)\n",
        "print(rf.oob_score_)"
      ],
      "metadata": {
        "colab": {
          "base_uri": "https://localhost:8080/"
        },
        "id": "vjbaLaSaimhy",
        "outputId": "c02ab71f-f7d5-4d5e-e47f-ff29a5898f11"
      },
      "execution_count": 6,
      "outputs": [
        {
          "output_type": "stream",
          "name": "stdout",
          "text": [
            "0.778360201760459\n"
          ]
        }
      ]
    },
    {
      "cell_type": "markdown",
      "source": [
        "### 모델링"
      ],
      "metadata": {
        "id": "rB49JKQmlQ6I"
      }
    },
    {
      "cell_type": "code",
      "source": [
        ""
      ],
      "metadata": {
        "id": "QS2SrMO4lQi9"
      },
      "execution_count": 11,
      "outputs": []
    },
    {
      "cell_type": "markdown",
      "source": [
        "### 제출 파일 생성"
      ],
      "metadata": {
        "id": "PYrdthmtjbKK"
      }
    },
    {
      "cell_type": "code",
      "source": [
        "submission = pd.read_csv('sample_submission.csv')\n",
        "submission"
      ],
      "metadata": {
        "colab": {
          "base_uri": "https://localhost:8080/",
          "height": 424
        },
        "id": "odvSIWD5jd_4",
        "outputId": "b77eb583-a863-4ae7-9868-1c9be4447d69"
      },
      "execution_count": 7,
      "outputs": [
        {
          "output_type": "execute_result",
          "data": {
            "text/plain": [
              "       index  nerdiness\n",
              "0          0         -1\n",
              "1          1         -1\n",
              "2          2         -1\n",
              "3          3         -1\n",
              "4          4         -1\n",
              "...      ...        ...\n",
              "35447  35447         -1\n",
              "35448  35448         -1\n",
              "35449  35449         -1\n",
              "35450  35450         -1\n",
              "35451  35451         -1\n",
              "\n",
              "[35452 rows x 2 columns]"
            ],
            "text/html": [
              "\n",
              "  <div id=\"df-6132b82a-339c-4006-b720-ec1b9d69c3b1\">\n",
              "    <div class=\"colab-df-container\">\n",
              "      <div>\n",
              "<style scoped>\n",
              "    .dataframe tbody tr th:only-of-type {\n",
              "        vertical-align: middle;\n",
              "    }\n",
              "\n",
              "    .dataframe tbody tr th {\n",
              "        vertical-align: top;\n",
              "    }\n",
              "\n",
              "    .dataframe thead th {\n",
              "        text-align: right;\n",
              "    }\n",
              "</style>\n",
              "<table border=\"1\" class=\"dataframe\">\n",
              "  <thead>\n",
              "    <tr style=\"text-align: right;\">\n",
              "      <th></th>\n",
              "      <th>index</th>\n",
              "      <th>nerdiness</th>\n",
              "    </tr>\n",
              "  </thead>\n",
              "  <tbody>\n",
              "    <tr>\n",
              "      <th>0</th>\n",
              "      <td>0</td>\n",
              "      <td>-1</td>\n",
              "    </tr>\n",
              "    <tr>\n",
              "      <th>1</th>\n",
              "      <td>1</td>\n",
              "      <td>-1</td>\n",
              "    </tr>\n",
              "    <tr>\n",
              "      <th>2</th>\n",
              "      <td>2</td>\n",
              "      <td>-1</td>\n",
              "    </tr>\n",
              "    <tr>\n",
              "      <th>3</th>\n",
              "      <td>3</td>\n",
              "      <td>-1</td>\n",
              "    </tr>\n",
              "    <tr>\n",
              "      <th>4</th>\n",
              "      <td>4</td>\n",
              "      <td>-1</td>\n",
              "    </tr>\n",
              "    <tr>\n",
              "      <th>...</th>\n",
              "      <td>...</td>\n",
              "      <td>...</td>\n",
              "    </tr>\n",
              "    <tr>\n",
              "      <th>35447</th>\n",
              "      <td>35447</td>\n",
              "      <td>-1</td>\n",
              "    </tr>\n",
              "    <tr>\n",
              "      <th>35448</th>\n",
              "      <td>35448</td>\n",
              "      <td>-1</td>\n",
              "    </tr>\n",
              "    <tr>\n",
              "      <th>35449</th>\n",
              "      <td>35449</td>\n",
              "      <td>-1</td>\n",
              "    </tr>\n",
              "    <tr>\n",
              "      <th>35450</th>\n",
              "      <td>35450</td>\n",
              "      <td>-1</td>\n",
              "    </tr>\n",
              "    <tr>\n",
              "      <th>35451</th>\n",
              "      <td>35451</td>\n",
              "      <td>-1</td>\n",
              "    </tr>\n",
              "  </tbody>\n",
              "</table>\n",
              "<p>35452 rows × 2 columns</p>\n",
              "</div>\n",
              "      <button class=\"colab-df-convert\" onclick=\"convertToInteractive('df-6132b82a-339c-4006-b720-ec1b9d69c3b1')\"\n",
              "              title=\"Convert this dataframe to an interactive table.\"\n",
              "              style=\"display:none;\">\n",
              "        \n",
              "  <svg xmlns=\"http://www.w3.org/2000/svg\" height=\"24px\"viewBox=\"0 0 24 24\"\n",
              "       width=\"24px\">\n",
              "    <path d=\"M0 0h24v24H0V0z\" fill=\"none\"/>\n",
              "    <path d=\"M18.56 5.44l.94 2.06.94-2.06 2.06-.94-2.06-.94-.94-2.06-.94 2.06-2.06.94zm-11 1L8.5 8.5l.94-2.06 2.06-.94-2.06-.94L8.5 2.5l-.94 2.06-2.06.94zm10 10l.94 2.06.94-2.06 2.06-.94-2.06-.94-.94-2.06-.94 2.06-2.06.94z\"/><path d=\"M17.41 7.96l-1.37-1.37c-.4-.4-.92-.59-1.43-.59-.52 0-1.04.2-1.43.59L10.3 9.45l-7.72 7.72c-.78.78-.78 2.05 0 2.83L4 21.41c.39.39.9.59 1.41.59.51 0 1.02-.2 1.41-.59l7.78-7.78 2.81-2.81c.8-.78.8-2.07 0-2.86zM5.41 20L4 18.59l7.72-7.72 1.47 1.35L5.41 20z\"/>\n",
              "  </svg>\n",
              "      </button>\n",
              "      \n",
              "  <style>\n",
              "    .colab-df-container {\n",
              "      display:flex;\n",
              "      flex-wrap:wrap;\n",
              "      gap: 12px;\n",
              "    }\n",
              "\n",
              "    .colab-df-convert {\n",
              "      background-color: #E8F0FE;\n",
              "      border: none;\n",
              "      border-radius: 50%;\n",
              "      cursor: pointer;\n",
              "      display: none;\n",
              "      fill: #1967D2;\n",
              "      height: 32px;\n",
              "      padding: 0 0 0 0;\n",
              "      width: 32px;\n",
              "    }\n",
              "\n",
              "    .colab-df-convert:hover {\n",
              "      background-color: #E2EBFA;\n",
              "      box-shadow: 0px 1px 2px rgba(60, 64, 67, 0.3), 0px 1px 3px 1px rgba(60, 64, 67, 0.15);\n",
              "      fill: #174EA6;\n",
              "    }\n",
              "\n",
              "    [theme=dark] .colab-df-convert {\n",
              "      background-color: #3B4455;\n",
              "      fill: #D2E3FC;\n",
              "    }\n",
              "\n",
              "    [theme=dark] .colab-df-convert:hover {\n",
              "      background-color: #434B5C;\n",
              "      box-shadow: 0px 1px 3px 1px rgba(0, 0, 0, 0.15);\n",
              "      filter: drop-shadow(0px 1px 2px rgba(0, 0, 0, 0.3));\n",
              "      fill: #FFFFFF;\n",
              "    }\n",
              "  </style>\n",
              "\n",
              "      <script>\n",
              "        const buttonEl =\n",
              "          document.querySelector('#df-6132b82a-339c-4006-b720-ec1b9d69c3b1 button.colab-df-convert');\n",
              "        buttonEl.style.display =\n",
              "          google.colab.kernel.accessAllowed ? 'block' : 'none';\n",
              "\n",
              "        async function convertToInteractive(key) {\n",
              "          const element = document.querySelector('#df-6132b82a-339c-4006-b720-ec1b9d69c3b1');\n",
              "          const dataTable =\n",
              "            await google.colab.kernel.invokeFunction('convertToInteractive',\n",
              "                                                     [key], {});\n",
              "          if (!dataTable) return;\n",
              "\n",
              "          const docLinkHtml = 'Like what you see? Visit the ' +\n",
              "            '<a target=\"_blank\" href=https://colab.research.google.com/notebooks/data_table.ipynb>data table notebook</a>'\n",
              "            + ' to learn more about interactive tables.';\n",
              "          element.innerHTML = '';\n",
              "          dataTable['output_type'] = 'display_data';\n",
              "          await google.colab.output.renderOutput(dataTable, element);\n",
              "          const docLink = document.createElement('div');\n",
              "          docLink.innerHTML = docLinkHtml;\n",
              "          element.appendChild(docLink);\n",
              "        }\n",
              "      </script>\n",
              "    </div>\n",
              "  </div>\n",
              "  "
            ]
          },
          "metadata": {},
          "execution_count": 7
        }
      ]
    },
    {
      "cell_type": "code",
      "source": [
        "lgbm_pred = lgbm_clf.predict(test)\n",
        "submission[\"nerdiness\"] = lgbm_pred"
      ],
      "metadata": {
        "colab": {
          "base_uri": "https://localhost:8080/",
          "height": 166
        },
        "id": "r7EFyp6njlPs",
        "outputId": "261946e3-cb64-40d5-e732-4b4e893d1ae7"
      },
      "execution_count": 10,
      "outputs": [
        {
          "output_type": "error",
          "ename": "NameError",
          "evalue": "ignored",
          "traceback": [
            "\u001b[0;31m---------------------------------------------------------------------------\u001b[0m",
            "\u001b[0;31mNameError\u001b[0m                                 Traceback (most recent call last)",
            "\u001b[0;32m<ipython-input-10-1e6adf1b4c36>\u001b[0m in \u001b[0;36m<module>\u001b[0;34m()\u001b[0m\n\u001b[0;32m----> 1\u001b[0;31m \u001b[0msubmission\u001b[0m\u001b[0;34m[\u001b[0m\u001b[0;34m\"nerdiness\"\u001b[0m\u001b[0;34m]\u001b[0m \u001b[0;34m=\u001b[0m \u001b[0mlgbm_pred\u001b[0m\u001b[0;34m\u001b[0m\u001b[0;34m\u001b[0m\u001b[0m\n\u001b[0m",
            "\u001b[0;31mNameError\u001b[0m: name 'lgbm_pred' is not defined"
          ]
        }
      ]
    }
  ]
}