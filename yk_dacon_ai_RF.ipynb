{
  "nbformat": 4,
  "nbformat_minor": 0,
  "metadata": {
    "colab": {
      "name": "yk_dacon_ai_RF.ipynb",
      "provenance": []
    },
    "kernelspec": {
      "name": "python3",
      "display_name": "Python 3"
    },
    "language_info": {
      "name": "python"
    }
  },
  "cells": [
    {
      "cell_type": "code",
      "execution_count": 1,
      "metadata": {
        "id": "nI8FnCP38MLT"
      },
      "outputs": [],
      "source": [
        "import numpy as np\n",
        "import pandas as pd\n",
        "import matplotlib.pyplot as plt\n",
        "import matplotlib.pyplot as plt\n",
        "\n",
        "from sklearn.model_selection import train_test_split, cross_validate\n",
        "from sklearn.ensemble import RandomForestClassifier"
      ]
    },
    {
      "cell_type": "code",
      "source": [
        "# 데이터 가져오기\n",
        "train_data = pd.read_csv(\"train.csv\")\n",
        "train_data_drop = train_data.dropna()\n",
        "\n",
        "# 데이터 쪼개기 => 결측치 제거한 값으로\n",
        "# idx1to26_drop = train_data_drop.iloc[:, 1:27]  \n",
        "# idx28to40_drop = train_data_drop.iloc[:, 28:41]\n",
        "# idx41to56_drop = train_data_drop.iloc[:, 41:57]\n",
        "# idx57to68_drop = train_data_drop.iloc[:, 57:69]\n",
        "# target_drop = train_data_drop.iloc[:, 69]\n",
        "\n",
        "print(train_data_drop.info())\n",
        "\n",
        "# main_data_drop = pd.concat([idx1to26_drop, idx41to56_drop], axis=1)"
      ],
      "metadata": {
        "colab": {
          "base_uri": "https://localhost:8080/"
        },
        "id": "D1vRPGEy8eQ0",
        "outputId": "f858ce5b-bd06-42fc-8fc0-e0a346b4e2f4"
      },
      "execution_count": 3,
      "outputs": [
        {
          "output_type": "stream",
          "name": "stdout",
          "text": [
            "<class 'pandas.core.frame.DataFrame'>\n",
            "Int64Index: 12639 entries, 0 to 14999\n",
            "Data columns (total 70 columns):\n",
            " #   Column        Non-Null Count  Dtype  \n",
            "---  ------        --------------  -----  \n",
            " 0   index         12639 non-null  int64  \n",
            " 1   Q1            12639 non-null  float64\n",
            " 2   Q2            12639 non-null  float64\n",
            " 3   Q3            12639 non-null  float64\n",
            " 4   Q4            12639 non-null  float64\n",
            " 5   Q5            12639 non-null  float64\n",
            " 6   Q6            12639 non-null  float64\n",
            " 7   Q7            12639 non-null  float64\n",
            " 8   Q8            12639 non-null  float64\n",
            " 9   Q9            12639 non-null  float64\n",
            " 10  Q10           12639 non-null  float64\n",
            " 11  Q11           12639 non-null  float64\n",
            " 12  Q12           12639 non-null  float64\n",
            " 13  Q13           12639 non-null  float64\n",
            " 14  Q14           12639 non-null  float64\n",
            " 15  Q15           12639 non-null  float64\n",
            " 16  Q16           12639 non-null  float64\n",
            " 17  Q17           12639 non-null  float64\n",
            " 18  Q18           12639 non-null  float64\n",
            " 19  Q19           12639 non-null  float64\n",
            " 20  Q20           12639 non-null  float64\n",
            " 21  Q21           12639 non-null  float64\n",
            " 22  Q22           12639 non-null  float64\n",
            " 23  Q23           12639 non-null  float64\n",
            " 24  Q24           12639 non-null  float64\n",
            " 25  Q25           12639 non-null  float64\n",
            " 26  Q26           12639 non-null  float64\n",
            " 27  country       12639 non-null  object \n",
            " 28  introelapse   12639 non-null  int64  \n",
            " 29  testelapse    12639 non-null  int64  \n",
            " 30  surveyelapse  12639 non-null  int64  \n",
            " 31  TIPI1         12639 non-null  float64\n",
            " 32  TIPI2         12639 non-null  float64\n",
            " 33  TIPI3         12639 non-null  float64\n",
            " 34  TIPI4         12639 non-null  float64\n",
            " 35  TIPI5         12639 non-null  float64\n",
            " 36  TIPI6         12639 non-null  float64\n",
            " 37  TIPI7         12639 non-null  float64\n",
            " 38  TIPI8         12639 non-null  float64\n",
            " 39  TIPI9         12639 non-null  float64\n",
            " 40  TIPI10        12639 non-null  float64\n",
            " 41  VCL1          12639 non-null  int64  \n",
            " 42  VCL2          12639 non-null  int64  \n",
            " 43  VCL3          12639 non-null  int64  \n",
            " 44  VCL4          12639 non-null  int64  \n",
            " 45  VCL5          12639 non-null  int64  \n",
            " 46  VCL6          12639 non-null  int64  \n",
            " 47  VCL7          12639 non-null  int64  \n",
            " 48  VCL8          12639 non-null  int64  \n",
            " 49  VCL9          12639 non-null  int64  \n",
            " 50  VCL10         12639 non-null  int64  \n",
            " 51  VCL11         12639 non-null  int64  \n",
            " 52  VCL12         12639 non-null  int64  \n",
            " 53  VCL13         12639 non-null  int64  \n",
            " 54  VCL14         12639 non-null  int64  \n",
            " 55  VCL15         12639 non-null  int64  \n",
            " 56  VCL16         12639 non-null  int64  \n",
            " 57  education     12639 non-null  float64\n",
            " 58  urban         12639 non-null  int64  \n",
            " 59  gender        12639 non-null  float64\n",
            " 60  engnat        12639 non-null  float64\n",
            " 61  age           12639 non-null  int64  \n",
            " 62  hand          12639 non-null  float64\n",
            " 63  religion      12639 non-null  float64\n",
            " 64  orientation   12639 non-null  float64\n",
            " 65  voted         12639 non-null  float64\n",
            " 66  married       12639 non-null  float64\n",
            " 67  familysize    12639 non-null  float64\n",
            " 68  ASD           12639 non-null  float64\n",
            " 69  nerdiness     12639 non-null  int64  \n",
            "dtypes: float64(46), int64(23), object(1)\n",
            "memory usage: 6.8+ MB\n",
            "None\n"
          ]
        }
      ]
    },
    {
      "cell_type": "code",
      "source": [
        "data = pd.concat((train_data_drop.iloc[:,1:27], train_data_drop.iloc[:,41:57]), axis=1)\n",
        "td = train_data_drop['nerdiness'].to_numpy()\n",
        "td_1 = td.reshape(-1,1)\n",
        "\n",
        "print(data.shape)\n",
        "print(td_1.shape)\n",
        "train_input, test_input, train_target, test_target = train_test_split(data, td_1, test_size=0.2, random_state=42)"
      ],
      "metadata": {
        "colab": {
          "base_uri": "https://localhost:8080/"
        },
        "id": "jCa1qnFU8yka",
        "outputId": "b5add5fe-5aba-43f7-f4d1-3f9776c30039"
      },
      "execution_count": 11,
      "outputs": [
        {
          "output_type": "stream",
          "name": "stdout",
          "text": [
            "(12639, 42)\n",
            "(12639, 1)\n"
          ]
        }
      ]
    },
    {
      "cell_type": "code",
      "source": [
        "rf = RandomForestClassifier(n_jobs=-1)\n",
        "scores = cross_validate(rf, train_input, train_target, return_train_score=True, n_jobs=-1)\n",
        "print(np.mean(scores['train_score']), np.mean(scores['test_score']))"
      ],
      "metadata": {
        "colab": {
          "base_uri": "https://localhost:8080/"
        },
        "id": "zlkmYMO48ero",
        "outputId": "5b7b724d-58c2-45ae-d5ab-58d28d4c1013"
      },
      "execution_count": 13,
      "outputs": [
        {
          "output_type": "stream",
          "name": "stdout",
          "text": [
            "1.0 0.7719315898815452\n"
          ]
        }
      ]
    }
  ]
}